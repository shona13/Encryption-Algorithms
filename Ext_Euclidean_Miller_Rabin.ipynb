{
  "nbformat": 4,
  "nbformat_minor": 0,
  "metadata": {
    "colab": {
      "provenance": []
    },
    "kernelspec": {
      "name": "python3",
      "display_name": "Python 3"
    },
    "language_info": {
      "name": "python"
    }
  },
  "cells": [
    {
      "cell_type": "markdown",
      "source": [
        "### Extended Euclidean algorithm.\n",
        "* Input: two large positive random numbers (a, b) of length 1024 bits, i.e., |a| = |b| = 1024\n",
        "* Output: two numbers (c, d), where c = a−1 mod b is the inverse of a under modulus b, and d = b−1 mod a is the inverse of b under modulus a"
      ],
      "metadata": {
        "id": "QGb9FXqh1rz9"
      }
    },
    {
      "cell_type": "code",
      "execution_count": null,
      "metadata": {
        "id": "H6ejZr191o-q"
      },
      "outputs": [],
      "source": [
        "import random"
      ]
    },
    {
      "cell_type": "code",
      "source": [
        "# function for extended Euclidean Algorithm\n",
        "def gcdExtended(a, b):\n",
        "# Base Case\n",
        "  if a == 0:\n",
        "    return b, 0, 1\n",
        "  gcd, c1, d1 = gcdExtended(b % a, a)\n",
        "  \n",
        "  # Update x and y using results of recursive\n",
        "  c  = d1 - (b // a) * c1\n",
        "  d = c1\n",
        "  \n",
        "  return gcd, c, d"
      ],
      "metadata": {
        "id": "aWLvewer2AO_"
      },
      "execution_count": null,
      "outputs": []
    },
    {
      "cell_type": "code",
      "source": [
        "# Driver code\n",
        "a = random.getrandbits(10)\n",
        "b = random.getrandbits(10)\n",
        "g, c, d = gcdExtended(a, b)\n",
        "\n",
        "print(\"gcd(\", a, \",\", b, \") = \", g)"
      ],
      "metadata": {
        "colab": {
          "base_uri": "https://localhost:8080/"
        },
        "id": "5iy7nPzV2KFe",
        "outputId": "143aed86-a016-4b85-8508-db3c7866dd27"
      },
      "execution_count": null,
      "outputs": [
        {
          "output_type": "stream",
          "name": "stdout",
          "text": [
            "gcd( 769 , 144 ) =  1\n"
          ]
        }
      ]
    },
    {
      "cell_type": "markdown",
      "source": [
        "### Miller-Rabin primality test\n",
        "* Input: one large positive random numbers a of length 1024 bits, i.e., |a| = 1024\n",
        "* Output: output 1 if a is a prime, and 0 otherwise."
      ],
      "metadata": {
        "id": "1mP3YLuq2gj2"
      }
    },
    {
      "cell_type": "code",
      "source": [
        "# Utility function to do modular exponentiation\n",
        "def power(x, y, p):\n",
        "  res = 1\n",
        "  # Update x if it is more than or # equal to p\n",
        "  x = x % p\n",
        "  \n",
        "  while y > 0:\n",
        "  # If y is odd, multiply x with result\n",
        "    if y & 1:\n",
        "      res = (res * x) % p\n",
        "  \n",
        "  # y must be even now\n",
        "    y = y >> 1 # y = y/2\n",
        "    x = (x * x) % p\n",
        "  return res"
      ],
      "metadata": {
        "id": "gOGHIYlD2oFx"
      },
      "execution_count": null,
      "outputs": []
    },
    {
      "cell_type": "code",
      "source": [
        "def millerTest(d, n):\n",
        "  # Pick a random number\n",
        "  a = random.getrandbits(1024)\n",
        "  # Compute a^d % n\n",
        "  x = power(a, d, n)\n",
        "  if x == 1 or x == n - 1:\n",
        "    return True\n",
        "\n",
        "  while d != n - 1:\n",
        "    x = (x * x) % n\n",
        "    d *= 2\n",
        "    if x == 1:\n",
        "      return False\n",
        "    if x == n - 1:\n",
        "      return True\n",
        "  \n",
        "  # Return composite\n",
        "  return False"
      ],
      "metadata": {
        "id": "EuchzhaA2qIM"
      },
      "execution_count": null,
      "outputs": []
    },
    {
      "cell_type": "code",
      "source": [
        "# It returns false if n is composite and returns true if n is probably prime.\n",
        "def isPrime(n, k):\n",
        "  # Corner cases\n",
        "  if n <= 1 or n == 4:\n",
        "    return False\n",
        "  if n <= 3:\n",
        "    return True\n",
        "  d = n - 1\n",
        "  while d % 2 == 0:\n",
        "    d //= 2\n",
        "  # Iterate given number of 'k' times\n",
        "  for i in range(k):\n",
        "    if not millerTest(d, n):\n",
        "      return False\n",
        "  return True"
      ],
      "metadata": {
        "id": "rQIUgfH42sPW"
      },
      "execution_count": null,
      "outputs": []
    },
    {
      "cell_type": "code",
      "source": [
        "# Driver Code\n",
        "k = random.getrandbits(10)\n",
        "print(\"k = \", k)\n",
        "n = random.randint(0,9)\n",
        "print(\"n = \", n)\n",
        "print(\"Output is: \")\n",
        "\n",
        "if isPrime(n, k):\n",
        "  print(\"1\")\n",
        "else:\n",
        "  print(\"0\")"
      ],
      "metadata": {
        "colab": {
          "base_uri": "https://localhost:8080/"
        },
        "id": "ZOSLf1s42tvS",
        "outputId": "94e14152-93df-487f-8aac-2cec80282a2b"
      },
      "execution_count": null,
      "outputs": [
        {
          "output_type": "stream",
          "name": "stdout",
          "text": [
            "k =  277\n",
            "n =  3\n",
            "Output is: \n",
            "1\n"
          ]
        }
      ]
    }
  ]
}